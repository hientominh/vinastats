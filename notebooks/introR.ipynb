{
 "cells": [
  {
   "cell_type": "markdown",
   "metadata": {},
   "source": [
    "# Làm thống kê với R\n",
    "\n",
    "Author: [HVN](https://github.com/hvnsweeting/) at [pymi.vn](https://pymi.vn) - 2017/Sep/11\n",
    "\n",
    "R - đầy đủ là [GNU R](https://www.r-project.org/) - là một ngôn ngữ lập trình dành cho phân tích / biểu diễn dữ liệu.\n",
    "\n",
    "![logo](https://www.r-project.org/Rlogo.png)\n",
    "\n",
    "Khi một phần mềm có chữ GNU đứng đầu,nó là một sản phẩm của tổ chức\n",
    "GNU - tức là miễn phí hoàn toàn.\n",
    "\n",
    "Vào năm 2017, [R là nền tảng hấp dẫn thứ 2 (nó đứng thứ 1\n",
    "năm 2016) cho việc phân tích dữ liệu](http://www.kdnuggets.com/2017/08/python-overtakes-r-leader-analytics-data-science.html).\n",
    "Python soán ngôi thứ nhất - khi vừa cung cấp nhiều tính năng giống R, lại vừa \n",
    "là một ngôn ngữ lập trình đa mục đích.\n",
    "\n",
    "## Tại sao lại không dùng Python? \n",
    "Tư duy loại bỏ tồn tại ở rất nhiều người, khi dùng cái A thì sẽ không dùng cái B.\n",
    "Trên thực tế, người ta dùng cả R lẫn Python, chỗ nào tiện cái gì thì dùng\n",
    "cái đó. Ngoài ra, nếu là người mới bắt đầu, cuốn sách học thống kê (MIỄN PHÍ) \n",
    "tuyệt vời \n",
    "[An Introduction to Statistical Learning](http://www-bcf.usc.edu/~gareth/ISL/), \n",
    "sử  dụng các ví dụ viết bằng R.\n",
    "\n",
    "PS: một cuốn sách cũng MIỄN PHÍ khác: \n",
    "[Probability and Statistics for Programmers](http://www.greenteapress.com/thinkstats/)\n",
    " dùng Python.\n",
    " \n",
    "\n",
    "## Cài đặt\n",
    "Trên Ubuntu 16.04 (phiên bản Ubuntu tốt nhất hiện tại - Không dùng Windows,\n",
    "lập trình trên Windows là nguồn gốc của mọi đau thương).\n",
    "\n",
    "```\n",
    "sudo apt-get update && sudo apt-get install -y r-base\n",
    "```\n",
    "\n",
    "Ngồi chờ một lúc, nếu không có lỗi gì xảy ra tức là đã cài thành công R. Nếu đen đủi, thử cài bằng cách khác xem ở [đây](https://www.r-project.org/).\n",
    "\n",
    "Từ terminal, gõ lệnh để xem phiên bản của R:\n",
    "\n",
    "```\n",
    "$ R --version\n",
    "R version 3.2.3 (2015-12-10) -- \"Wooden Christmas-Tree\"\n",
    "Copyright (C) 2015 The R Foundation for Statistical Computing\n",
    "Platform: x86_64-pc-linux-gnu (64-bit)\n",
    "\n",
    "```\n",
    "\n",
    "Đây là bản 3.2, nên nhớ số phiên bản để phân biệt các câu lệnh khác nhau có thể\n",
    "có trong tài liệu.\n",
    "\n",
    "## Chạy R\n",
    "\n",
    "Gõ vào terminal (nếu không biết nó là cái gì, đọc thêm ở [đây](http://www.familug.org/2012/03/ccgu-cli-can-ban.html) ) chữ R hoa:\n",
    "\n",
    "```R\n",
    "$ R\n",
    "\n",
    "R version 3.2.3 (2015-12-10) -- \"Wooden Christmas-Tree\"\n",
    "Copyright (C) 2015 The R Foundation for Statistical Computing\n",
    "Platform: x86_64-pc-linux-gnu (64-bit)\n",
    "\n",
    "R is free software and comes with ABSOLUTELY NO WARRANTY.\n",
    "You are welcome to redistribute it under certain conditions.\n",
    "Type 'license()' or 'licence()' for distribution details.\n",
    "\n",
    "  Natural language support but running in an English locale\n",
    "\n",
    "R is a collaborative project with many contributors.\n",
    "Type 'contributors()' for more information and\n",
    "'citation()' on how to cite R or R packages in publications.\n",
    "\n",
    "Type 'demo()' for some demos, 'help()' for on-line help, or\n",
    "'help.start()' for an HTML browser interface to help.\n",
    "Type 'q()' to quit R.\n",
    "\n",
    "[Previously saved workspace restored]\n",
    "\n",
    "> \n",
    "```\n",
    "\n",
    "Dấu mũi tên chờ ta gõ lệnh.\n",
    "\n",
    "Gõ q() rồi enter để thoát, chọn lưu thông tin đang làm việc hay không tùy ý.\n",
    "\n",
    "```R\n",
    "> q()\n",
    "Save workspace image? [y/n/c]: n\n",
    "```\n",
    "\n",
    "## Cài package từ CRAN\n",
    "Sự thành công - phổ biến của R hay Python, chính là nhờ sức mạnh của cộng đồng.\n",
    "Các nhà khoa học trên thế giới chia sẻ code R của mình lên mạng thông qua:\n",
    "CRAN - Comprehensive R Archive Network. Với Python đó là PyPi https://pypi.org/.\n",
    "\n",
    "Để cài package từ CRAN, bật R lên và gõ \n",
    "\n",
    "```R\n",
    "> install.packages(TEN_PACKAGE)\n",
    "```\n",
    "\n",
    "Ví dụ: cài package ``ggplot2`` để vẽ (plot) hình theo phong cách [\"The Grammar of \n",
    "Graphic\"](https://cran.r-project.org/web/packages/ggplot2/)\n",
    "\n",
    "```R\n",
    "> install.packages('ggplot2')\n",
    "Installing package into ‘/home/hvn/R/x86_64-pc-linux-gnu-library/3.2’\n",
    "(as ‘lib’ is unspecified)\n",
    "--- Please select a CRAN mirror for use in this session ---\n",
    "```\n",
    "\n",
    "chọn mirror mà mình sẽ tải package về từ đó, ở Việt Nam có mirror của Vinahost\n",
    "https://mirror.vinahost.vn/CRAN/ - giúp tải package về nhanh hơn, không lo đứt\n",
    "cable - Cám ơn Vinahost.vn.\n",
    "\n",
    "PS: nên chọn https để tải, tránh dùng http (không s) để khỏi bị hacker tấn công.\n",
    "\n",
    "Quá trình cài đặt package, nếu không thành công sẽ được R thông báo lỗi và kèm\n",
    "theo cách giải quyết, thường là cài thêm packge của hệ thống. Ví dụ lỗi khi \n",
    "thiếu thư viện libcurl4 thì sửa bằng cách chạy lệnh trên terminal:\n",
    "\n",
    "```bash\n",
    "sudo apt-get install libcurl4-openssl-dev\n",
    "```\n",
    "\n",
    "## Tính toán vector, matrix với R\n",
    "Hay \"véc tơ\" và \"ma trận\":\n",
    "\n",
    "```R\n",
    "> x = c(1,2,3,5)\n",
    "> x\n",
    "[1] 1 2 3 5\n",
    "> y = c(5,3, 2, 1)\n",
    "> y\n",
    "[1] 5 3 2 1\n",
    "> x + y\n",
    "[1] 6 5 5 6\n",
    "> z = x + y\n",
    "> z\n",
    "[1] 6 5 5 6\n",
    "> ?length\n",
    "> length(z)\n",
    "[1] 4\n",
    "> 1:10\n",
    " [1]  1  2  3  4  5  6  7  8  9 10\n",
    "```\n",
    "\n",
    "Tạo vector bằng function ``c`` - Combine Values into a Vector or List.\n",
    "`?function` hiển thị thông tin về cách dùng function, ví dụ trên là ``length``\n",
    "(bấm q để thoát cửa sổ đó). `1:10` sinh vector chứa các sô nguyên từ 1->10.\n",
    "\n",
    "Tạo matrix với function ``matrix(vector_phần_tử, số_hàng, số_cột)``, kiểm tra \n",
    "kích thước với ``dim``:\n",
    "\n",
    "```R\n",
    "> A = matrix(1:20, 2, 10)\n",
    "> dim(A)\n",
    "[1]  2 10\n",
    "> A\n",
    "     [,1] [,2] [,3] [,4] [,5] [,6] [,7] [,8] [,9] [,10]\n",
    "[1,]    1    3    5    7    9   11   13   15   17    19\n",
    "[2,]    2    4    6    8   10   12   14   16   18    20\n",
    "\n",
    "> B = matrix(10:19, 10, 1)\n",
    "> B\n",
    "      [,1]\n",
    " [1,]   10\n",
    " [2,]   11\n",
    " [3,]   12\n",
    " [4,]   13\n",
    " [5,]   14\n",
    " [6,]   15\n",
    " [7,]   16\n",
    " [8,]   17\n",
    " [9,]   18\n",
    "[10,]   19\n",
    "\n",
    "> A %*% B\n",
    "     [,1]\n",
    "[1,] 1615\n",
    "[2,] 1760\n",
    "```\n",
    "Tính tích của 2 ma trận (matrix product), ta dùng phép tính ``%*%``.\n",
    "Các phép tính cộng trừ nhân chia ``+ - * /`` sẽ được tính trên các phần tử \n",
    "tương ứng (element by element products) của 2 ma trận cùng kích thước.\n",
    "\n",
    "\n",
    "## Xác suất và thống kê\n",
    "Các khái niệm về thống kê xem tại [bài viết này](https://medium.com/pymi/d%C3%B9ng-python-%C4%91%E1%BB%83-h%E1%BB%8Dc-th%E1%BB%91ng-k%C3%AA-8e41dfdaaf97).\n",
    "\n",
    "Sinh vector ngẫu nhiên tuân theo phân phối chuẩn (normal), có giá trị trung bình (mean) = 0 và\n",
    "độ lệch chuẩn (standard deviation) = 1:\n",
    "\n",
    "```\n",
    "> x = rnorm(100)\n",
    "> mean(x)\n",
    "[1] 0.08933046\n",
    "> sd(x)\n",
    "[1] 1.029229\n",
    "```\n",
    "\n",
    "Có thể tùy chỉnh mean và standard deviation:\n",
    "\n",
    "```R\n",
    "> y = rnorm(100, mean=50, sd=.1)\n",
    "> y\n",
    "  [1] 49.96206 49.86335 50.35193 49.87869 50.01944 50.00944 49.91215 50.02604\n",
    "...\n",
    "\n",
    "> mean(y)\n",
    "[1] 50.00244\n",
    "> sd(y)\n",
    "[1] 0.1061952\n",
    "```\n",
    "\n",
    "## Vẽ đồ thị - plotting\n",
    "Function cơ bản để vẽ hình với R là ``plot``, nhận vào giá trị trục x, trục y,\n",
    "tên trục nếu có, tên đồ thị. Sau khi gõ enter, nó sẽ mở ra cửa sổ mới với \n",
    "hình vẽ của dữ liệu:\n",
    "\n",
    "```R\n",
    "> k = rnorm(10)\n",
    "> h = rnorm(10)\n",
    "> plot(k, h, xlab=\"xxx\", ylab=\"yyy\", main=\"Plotttt\")\n",
    "\n",
    "```\n",
    "\n",
    "R có rất nhiều hàm để vẽ các loại đồ thị khác nhau, với tùy chỉnh tùy ý.\n",
    "``plot`` vẽ \"scatterplot\", như hình vẽ.\n",
    "\n",
    "![scatter](https://lh3.googleusercontent.com/OuG5dH9X6RfjSEOc8bXc2SwZfD0ViMqnaS3f0TE_BwdaHJm-zaKZn4YCYgb4L5Y2JeHNmpRJfHgCM0s=w1362-h624)\n",
    "\n",
    "## Chạy R trên Jupyter \n",
    "\n",
    "Jupyter là nền tảng để thực hiện tính toán, hỗ trợ hơn 40 ngôn ngữ lập trình, \n",
    "với khả năng chạy code và vẽ đồ thị ngay trên trình duyệt Web - là phần mềm tiêu\n",
    "chuẩn để làm data. Xem hướng dẫn cài đặt ở http://pymi.vn/blog/jupyter-notebook/ \n",
    "- jupyter là một sản phẩm của cộng đồng Python.\n",
    "\n",
    "Cài thêm R kernel theo hướng dẫn ở:\n",
    "https://github.com/IRkernel/IRkernel\n",
    "\n",
    "Sau đó bật Jupyter lên:\n",
    "\n",
    "![RJupyter](https://lh6.googleusercontent.com/4Bv9BTQHdEqAdalXuhYy60zIYFb_sbZnyt1LA_RTXC3vLrvZfDFGGM4eBzOkbFGs7C1aMSThziawuYk=w1362-h624)\n",
    "\n",
    "Gõ code như thường, vẽ đồ thị sẽ hiện ngay trên Jupyter. Dưới đây\n",
    "gõ theo ví dụ ở [trang chủ của IRKernel](https://irkernel.github.io/), thu được hình vẽ đẹp như mộng"
   ]
  },
  {
   "cell_type": "code",
   "execution_count": 2,
   "metadata": {
    "collapsed": true
   },
   "outputs": [],
   "source": [
    "library(ggplot2)"
   ]
  },
  {
   "cell_type": "code",
   "execution_count": 3,
   "metadata": {
    "scrolled": false
   },
   "outputs": [
    {
     "name": "stderr",
     "output_type": "stream",
     "text": [
      "`geom_smooth()` using method = 'loess'\n"
     ]
    },
    {
     "data": {},
     "metadata": {},
     "output_type": "display_data"
    },
    {
     "data": {
      "image/png": "[encoded data removed]",
      "text/plain": [
       "plot without title"
      ]
     },
     "metadata": {},
     "output_type": "display_data"
    }
   ],
   "source": [
    "qplot(wt, mpg, data = mtcars, geom = c('point', 'smooth'), color=cyl)"
   ]
  },
  {
   "cell_type": "markdown",
   "metadata": {},
   "source": [
    "Vẽ đồ thị hình sin, sử dụng ``plot`` và ``qplot`` (của ggplot) để so sánh "
   ]
  },
  {
   "cell_type": "code",
   "execution_count": 32,
   "metadata": {},
   "outputs": [
    {
     "data": {},
     "metadata": {},
     "output_type": "display_data"
    },
    {
     "data": {
      "image/png": "[encoded data removed]",
      "text/plain": [
       "plot without title"
      ]
     },
     "metadata": {},
     "output_type": "display_data"
    },
    {
     "data": {
      "image/png": "[encoded data removed]",
      "text/plain": [
       "plot without title"
      ]
     },
     "metadata": {},
     "output_type": "display_data"
    }
   ],
   "source": [
    "x = seq(-pi, pi, length=50)\n",
    "y = sin(x)\n",
    "plot(x, y)\n",
    "qplot(x, y)"
   ]
  },
  {
   "cell_type": "markdown",
   "metadata": {},
   "source": [
    "## Tìm ngày giá Bitcoin lên cao nhất \n",
    "\n",
    "Theo dữ liệu lấy từ http://api.bitcoincharts.com/v1/csv/localbtcVND.csv.gz - thời điểm viết bài (2017-Sep-11)."
   ]
  },
  {
   "cell_type": "code",
   "execution_count": 1,
   "metadata": {
    "collapsed": true
   },
   "outputs": [],
   "source": [
    "btc=read.table(\"/home/hvn/me/pyfml/exercises/localbtcVND.csv\", sep =',') \n"
   ]
  },
  {
   "cell_type": "code",
   "execution_count": 2,
   "metadata": {},
   "outputs": [
    {
     "data": {
      "text/html": [
       "<table>\n",
       "<thead><tr><th scope=col>V1</th><th scope=col>V2</th><th scope=col>V3</th></tr></thead>\n",
       "<tbody>\n",
       "\t<tr><td>1392343181</td><td>16102221  </td><td>0.7018000 </td></tr>\n",
       "\t<tr><td>1395747805</td><td>13454061  </td><td>0.1858175 </td></tr>\n",
       "\t<tr><td>1396018379</td><td>11833328  </td><td>0.1984234 </td></tr>\n",
       "\t<tr><td>1396256087</td><td>11549259  </td><td>0.2000000 </td></tr>\n",
       "\t<tr><td>1400256247</td><td>11368863  </td><td>0.2157000 </td></tr>\n",
       "\t<tr><td>1401678584</td><td>15987724  </td><td>0.1556000 </td></tr>\n",
       "</tbody>\n",
       "</table>\n"
      ],
      "text/latex": [
       "\\begin{tabular}{r|lll}\n",
       " V1 & V2 & V3\\\\\n",
       "\\hline\n",
       "\t 1392343181 & 16102221   & 0.7018000 \\\\\n",
       "\t 1395747805 & 13454061   & 0.1858175 \\\\\n",
       "\t 1396018379 & 11833328   & 0.1984234 \\\\\n",
       "\t 1396256087 & 11549259   & 0.2000000 \\\\\n",
       "\t 1400256247 & 11368863   & 0.2157000 \\\\\n",
       "\t 1401678584 & 15987724   & 0.1556000 \\\\\n",
       "\\end{tabular}\n"
      ],
      "text/markdown": [
       "\n",
       "V1 | V2 | V3 | \n",
       "|---|---|---|---|---|---|\n",
       "| 1392343181 | 16102221   | 0.7018000  | \n",
       "| 1395747805 | 13454061   | 0.1858175  | \n",
       "| 1396018379 | 11833328   | 0.1984234  | \n",
       "| 1396256087 | 11549259   | 0.2000000  | \n",
       "| 1400256247 | 11368863   | 0.2157000  | \n",
       "| 1401678584 | 15987724   | 0.1556000  | \n",
       "\n",
       "\n"
      ],
      "text/plain": [
       "  V1         V2       V3       \n",
       "1 1392343181 16102221 0.7018000\n",
       "2 1395747805 13454061 0.1858175\n",
       "3 1396018379 11833328 0.1984234\n",
       "4 1396256087 11549259 0.2000000\n",
       "5 1400256247 11368863 0.2157000\n",
       "6 1401678584 15987724 0.1556000"
      ]
     },
     "metadata": {},
     "output_type": "display_data"
    }
   ],
   "source": [
    "head(btc)"
   ]
  },
  {
   "cell_type": "markdown",
   "metadata": {},
   "source": [
    "Cột thứ 3 không dùng tới trong bài này, xem 2 cột còn lại.\n",
    "R đếm index từ 1."
   ]
  },
  {
   "cell_type": "code",
   "execution_count": 3,
   "metadata": {
    "scrolled": true
   },
   "outputs": [
    {
     "data": {
      "text/html": [
       "<table>\n",
       "<thead><tr><th scope=col>V1</th><th scope=col>V2</th></tr></thead>\n",
       "<tbody>\n",
       "\t<tr><td>1392343181</td><td>16102221  </td></tr>\n",
       "</tbody>\n",
       "</table>\n"
      ],
      "text/latex": [
       "\\begin{tabular}{r|ll}\n",
       " V1 & V2\\\\\n",
       "\\hline\n",
       "\t 1392343181 & 16102221  \\\\\n",
       "\\end{tabular}\n"
      ],
      "text/markdown": [
       "\n",
       "V1 | V2 | \n",
       "|---|\n",
       "| 1392343181 | 16102221   | \n",
       "\n",
       "\n"
      ],
      "text/plain": [
       "  V1         V2      \n",
       "1 1392343181 16102221"
      ]
     },
     "metadata": {},
     "output_type": "display_data"
    }
   ],
   "source": [
    "btc[1, 1:2]"
   ]
  },
  {
   "cell_type": "markdown",
   "metadata": {},
   "source": [
    "Đổi giá trị ở cột 1 - timestamp (số giây từ năm 1/1/1970) thành dữ liệu thân thiện với con người.\n",
    "Bỏ bớt số 0 trong đơn vị tiền VNĐ cho gọn (tính theo đơn vị triệu VNĐ)."
   ]
  },
  {
   "cell_type": "code",
   "execution_count": 4,
   "metadata": {
    "collapsed": true
   },
   "outputs": [],
   "source": [
    "btc[, 1] = as.POSIXct(btc[, 1], origin=\"1970-01-01\",tz=\"GMT\")\n",
    "btc[, 2] = btc[, 2]/1000000"
   ]
  },
  {
   "cell_type": "code",
   "execution_count": 5,
   "metadata": {},
   "outputs": [
    {
     "data": {
      "text/html": [
       "<table>\n",
       "<thead><tr><th scope=col>V1</th><th scope=col>V2</th><th scope=col>V3</th></tr></thead>\n",
       "<tbody>\n",
       "\t<tr><td>2014-02-14 01:59:41</td><td>16.10222           </td><td>0.7018000          </td></tr>\n",
       "\t<tr><td>2014-03-25 11:43:25</td><td>13.45406           </td><td>0.1858175          </td></tr>\n",
       "\t<tr><td>2014-03-28 14:52:59</td><td>11.83333           </td><td>0.1984234          </td></tr>\n",
       "\t<tr><td>2014-03-31 08:54:47</td><td>11.54926           </td><td>0.2000000          </td></tr>\n",
       "\t<tr><td>2014-05-16 16:04:07</td><td>11.36886           </td><td>0.2157000          </td></tr>\n",
       "\t<tr><td>2014-06-02 03:09:44</td><td>15.98772           </td><td>0.1556000          </td></tr>\n",
       "</tbody>\n",
       "</table>\n"
      ],
      "text/latex": [
       "\\begin{tabular}{r|lll}\n",
       " V1 & V2 & V3\\\\\n",
       "\\hline\n",
       "\t 2014-02-14 01:59:41 & 16.10222            & 0.7018000          \\\\\n",
       "\t 2014-03-25 11:43:25 & 13.45406            & 0.1858175          \\\\\n",
       "\t 2014-03-28 14:52:59 & 11.83333            & 0.1984234          \\\\\n",
       "\t 2014-03-31 08:54:47 & 11.54926            & 0.2000000          \\\\\n",
       "\t 2014-05-16 16:04:07 & 11.36886            & 0.2157000          \\\\\n",
       "\t 2014-06-02 03:09:44 & 15.98772            & 0.1556000          \\\\\n",
       "\\end{tabular}\n"
      ],
      "text/markdown": [
       "\n",
       "V1 | V2 | V3 | \n",
       "|---|---|---|---|---|---|\n",
       "| 2014-02-14 01:59:41 | 16.10222            | 0.7018000           | \n",
       "| 2014-03-25 11:43:25 | 13.45406            | 0.1858175           | \n",
       "| 2014-03-28 14:52:59 | 11.83333            | 0.1984234           | \n",
       "| 2014-03-31 08:54:47 | 11.54926            | 0.2000000           | \n",
       "| 2014-05-16 16:04:07 | 11.36886            | 0.2157000           | \n",
       "| 2014-06-02 03:09:44 | 15.98772            | 0.1556000           | \n",
       "\n",
       "\n"
      ],
      "text/plain": [
       "  V1                  V2       V3       \n",
       "1 2014-02-14 01:59:41 16.10222 0.7018000\n",
       "2 2014-03-25 11:43:25 13.45406 0.1858175\n",
       "3 2014-03-28 14:52:59 11.83333 0.1984234\n",
       "4 2014-03-31 08:54:47 11.54926 0.2000000\n",
       "5 2014-05-16 16:04:07 11.36886 0.2157000\n",
       "6 2014-06-02 03:09:44 15.98772 0.1556000"
      ]
     },
     "metadata": {},
     "output_type": "display_data"
    }
   ],
   "source": [
    "head(btc)"
   ]
  },
  {
   "cell_type": "code",
   "execution_count": 6,
   "metadata": {},
   "outputs": [
    {
     "data": {
      "text/html": [
       "<table>\n",
       "<thead><tr><th></th><th scope=col>V1</th><th scope=col>V2</th><th scope=col>V3</th></tr></thead>\n",
       "<tbody>\n",
       "\t<tr><th scope=row>948</th><td>2017-07-14 04:04:07</td><td>56.71755           </td><td>0.03878870         </td></tr>\n",
       "\t<tr><th scope=row>949</th><td>2017-07-15 11:10:19</td><td>46.62286           </td><td>0.31711912         </td></tr>\n",
       "\t<tr><th scope=row>950</th><td>2017-07-15 13:56:56</td><td>45.84751           </td><td>0.24783244         </td></tr>\n",
       "\t<tr><th scope=row>951</th><td>2017-07-16 05:21:30</td><td>45.08113           </td><td>0.04658268         </td></tr>\n",
       "\t<tr><th scope=row>952</th><td>2017-07-17 05:06:33</td><td>44.35492           </td><td>0.28181769         </td></tr>\n",
       "\t<tr><th scope=row>953</th><td>2017-07-17 13:55:00</td><td>46.79052           </td><td>0.04274370         </td></tr>\n",
       "</tbody>\n",
       "</table>\n"
      ],
      "text/latex": [
       "\\begin{tabular}{r|lll}\n",
       "  & V1 & V2 & V3\\\\\n",
       "\\hline\n",
       "\t948 & 2017-07-14 04:04:07 & 56.71755            & 0.03878870         \\\\\n",
       "\t949 & 2017-07-15 11:10:19 & 46.62286            & 0.31711912         \\\\\n",
       "\t950 & 2017-07-15 13:56:56 & 45.84751            & 0.24783244         \\\\\n",
       "\t951 & 2017-07-16 05:21:30 & 45.08113            & 0.04658268         \\\\\n",
       "\t952 & 2017-07-17 05:06:33 & 44.35492            & 0.28181769         \\\\\n",
       "\t953 & 2017-07-17 13:55:00 & 46.79052            & 0.04274370         \\\\\n",
       "\\end{tabular}\n"
      ],
      "text/markdown": [
       "\n",
       "| <!--/--> | V1 | V2 | V3 | \n",
       "|---|---|---|---|---|---|\n",
       "| 948 | 2017-07-14 04:04:07 | 56.71755            | 0.03878870          | \n",
       "| 949 | 2017-07-15 11:10:19 | 46.62286            | 0.31711912          | \n",
       "| 950 | 2017-07-15 13:56:56 | 45.84751            | 0.24783244          | \n",
       "| 951 | 2017-07-16 05:21:30 | 45.08113            | 0.04658268          | \n",
       "| 952 | 2017-07-17 05:06:33 | 44.35492            | 0.28181769          | \n",
       "| 953 | 2017-07-17 13:55:00 | 46.79052            | 0.04274370          | \n",
       "\n",
       "\n"
      ],
      "text/plain": [
       "    V1                  V2       V3        \n",
       "948 2017-07-14 04:04:07 56.71755 0.03878870\n",
       "949 2017-07-15 11:10:19 46.62286 0.31711912\n",
       "950 2017-07-15 13:56:56 45.84751 0.24783244\n",
       "951 2017-07-16 05:21:30 45.08113 0.04658268\n",
       "952 2017-07-17 05:06:33 44.35492 0.28181769\n",
       "953 2017-07-17 13:55:00 46.79052 0.04274370"
      ]
     },
     "metadata": {},
     "output_type": "display_data"
    }
   ],
   "source": [
    "tail(btc)"
   ]
  },
  {
   "cell_type": "code",
   "execution_count": 7,
   "metadata": {},
   "outputs": [
    {
     "data": {
      "text/html": [
       "76.45427783"
      ],
      "text/latex": [
       "76.45427783"
      ],
      "text/markdown": [
       "76.45427783"
      ],
      "text/plain": [
       "[1] 76.45428"
      ]
     },
     "metadata": {},
     "output_type": "display_data"
    }
   ],
   "source": [
    "max(btc[2])"
   ]
  },
  {
   "cell_type": "code",
   "execution_count": 8,
   "metadata": {},
   "outputs": [
    {
     "data": {
      "text/html": [
       "<table>\n",
       "<thead><tr><th></th><th scope=col>V1</th><th scope=col>V2</th><th scope=col>V3</th></tr></thead>\n",
       "<tbody>\n",
       "\t<tr><th scope=row>820</th><td>2017-05-25 14:59:26</td><td>76.45428           </td><td>0.9                </td></tr>\n",
       "</tbody>\n",
       "</table>\n"
      ],
      "text/latex": [
       "\\begin{tabular}{r|lll}\n",
       "  & V1 & V2 & V3\\\\\n",
       "\\hline\n",
       "\t820 & 2017-05-25 14:59:26 & 76.45428            & 0.9                \\\\\n",
       "\\end{tabular}\n"
      ],
      "text/markdown": [
       "\n",
       "| <!--/--> | V1 | V2 | V3 | \n",
       "|---|\n",
       "| 820 | 2017-05-25 14:59:26 | 76.45428            | 0.9                 | \n",
       "\n",
       "\n"
      ],
      "text/plain": [
       "    V1                  V2       V3 \n",
       "820 2017-05-25 14:59:26 76.45428 0.9"
      ]
     },
     "metadata": {},
     "output_type": "display_data"
    }
   ],
   "source": [
    "btc[which.max(btc[, 2]), ]"
   ]
  },
  {
   "cell_type": "code",
   "execution_count": 12,
   "metadata": {
    "scrolled": false
   },
   "outputs": [
    {
     "data": {},
     "metadata": {},
     "output_type": "display_data"
    },
    {
     "data": {
      "image/png": "[encoded data removed]",
      "text/plain": [
       "plot without title"
      ]
     },
     "metadata": {},
     "output_type": "display_data"
    }
   ],
   "source": [
    "library(ggplot2)\n",
    "qplot(x=btc[, 1],y=btc[,2], geom='line', xlab='ngày', ylab='triệu VND', main=\"Giá bitcoin - vẽ bởi pymi.vn\")"
   ]
  },
  {
   "cell_type": "markdown",
   "metadata": {},
   "source": [
    "Kết quả này đúng ở thời điểm lên đỉnh của BTC ngày 25/5, nhưng phần số liệu mà LocalBTC cung cấp sau đó không khớp với giá BTC tính bằng USD (11/6 lên >3000 rồi lại xuống - tham khảo thêm tại https://www.coindesk.com/price/)."
   ]
  },
  {
   "cell_type": "markdown",
   "metadata": {},
   "source": [
    "Các kết quả tìm kiếm khi thực hiện bài viết \n",
    "- Max https://stackoverflow.com/questions/743622/finding-row-index-containing-maximum-value-using-r#743664\n",
    "- Datetime https://stackoverflow.com/questions/27408131/convert-unix-timestamp-into-datetime-in-r#27408204"
   ]
  },
  {
   "cell_type": "markdown",
   "metadata": {},
   "source": [
    "## Tài liệu\n",
    "\n",
    "https://cran.r-project.org/doc/manuals/r-release/R-intro.html"
   ]
  }
 ],
 "metadata": {
  "kernelspec": {
   "display_name": "R 3.2",
   "language": "R",
   "name": "ir32"
  },
  "language_info": {
   "codemirror_mode": "r",
   "file_extension": ".r",
   "mimetype": "text/x-r-source",
   "name": "R",
   "pygments_lexer": "r",
   "version": "3.2.3"
  }
 },
 "nbformat": 4,
 "nbformat_minor": 2
}
